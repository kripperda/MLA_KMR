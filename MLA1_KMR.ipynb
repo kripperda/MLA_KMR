{
  "nbformat": 4,
  "nbformat_minor": 0,
  "metadata": {
    "colab": {
      "provenance": [],
      "authorship_tag": "ABX9TyOPcOR3wIPjXOM+cFy4EJIL",
      "include_colab_link": true
    },
    "kernelspec": {
      "name": "python3",
      "display_name": "Python 3"
    },
    "language_info": {
      "name": "python"
    }
  },
  "cells": [
    {
      "cell_type": "markdown",
      "metadata": {
        "id": "view-in-github",
        "colab_type": "text"
      },
      "source": [
        "<a href=\"https://colab.research.google.com/github/kripperda/MLA_KMR/blob/main/MLA1_KMR.ipynb\" target=\"_parent\"><img src=\"https://colab.research.google.com/assets/colab-badge.svg\" alt=\"Open In Colab\"/></a>"
      ]
    },
    {
      "cell_type": "markdown",
      "source": [
        "Machine Learning Assignment 1\n",
        "Kory Ripperda\n",
        "CS430-ON\n",
        "Machine Learning in the Cloud"
      ],
      "metadata": {
        "id": "m_zc5YCuQi-W"
      }
    },
    {
      "cell_type": "code",
      "source": [
        "import pandas as pd\n",
        "import matplotlib.pyplot as plt\n",
        "import seaborn as sns\n",
        "%matplotlib inline\n",
        "\n",
        "from google.colab import drive"
      ],
      "metadata": {
        "id": "0NZpCMx_jwZ2"
      },
      "execution_count": 200,
      "outputs": []
    },
    {
      "cell_type": "markdown",
      "source": [
        "Mount to Google Drive"
      ],
      "metadata": {
        "id": "Fr77pAzqjyTR"
      }
    },
    {
      "cell_type": "code",
      "source": [
        "# Mount your Google Drive\n",
        "drive.mount('/content/drive')"
      ],
      "metadata": {
        "colab": {
          "base_uri": "https://localhost:8080/"
        },
        "id": "2AbOY6PVj0j2",
        "outputId": "c45c5250-15e5-499c-f501-abd2d2e892eb"
      },
      "execution_count": 201,
      "outputs": [
        {
          "output_type": "stream",
          "name": "stdout",
          "text": [
            "Drive already mounted at /content/drive; to attempt to forcibly remount, call drive.mount(\"/content/drive\", force_remount=True).\n"
          ]
        }
      ]
    },
    {
      "cell_type": "markdown",
      "source": [
        "File Path to Google Drive"
      ],
      "metadata": {
        "id": "UowTQnUckJV5"
      }
    },
    {
      "cell_type": "code",
      "source": [
        "# Path to file in Google Drive\n",
        "df = pd.read_csv('/content/drive/MyDrive/weather_2012.csv')\n",
        "\n",
        "# Read the file into a DataFrame named 'df'\n",
        "df = pd.read_csv('/content/drive/MyDrive/weather_2012.csv')\n",
        "\n",
        "df.sample(5)\n"
      ],
      "metadata": {
        "colab": {
          "base_uri": "https://localhost:8080/",
          "height": 206
        },
        "id": "qYVIk2VdkLnI",
        "outputId": "f074d96a-ccf2-4887-c1af-a5d4fe1972ac"
      },
      "execution_count": 202,
      "outputs": [
        {
          "output_type": "execute_result",
          "data": {
            "text/plain": [
              "             Date/Time  Temp (C)  Dew Point Temp (C)  Rel Hum (%)  \\\n",
              "5933     9/4/2012 5:00      20.7                14.6           68   \n",
              "406    1/17/2012 22:00      -1.6                -3.2           89   \n",
              "86      1/4/2012 14:00     -11.3               -19.0           53   \n",
              "8559  12/22/2012 15:00      -5.4                -7.1           88   \n",
              "2803   4/26/2012 19:00       8.3                 5.6           83   \n",
              "\n",
              "      Wind Spd (km/h)  Visibility (km)  Stn Press (kPa)            Weather  \n",
              "5933                9             25.0           101.11      Mostly Cloudy  \n",
              "406                17              3.2            98.47      Freezing Rain  \n",
              "86                  7             19.3           100.97               Snow  \n",
              "8559               35              1.6            99.24  Snow,Blowing Snow  \n",
              "2803               15             19.3            99.70               Rain  "
            ],
            "text/html": [
              "\n",
              "  <div id=\"df-66825c32-fdb5-4cfe-b7c4-331e31b7e687\" class=\"colab-df-container\">\n",
              "    <div>\n",
              "<style scoped>\n",
              "    .dataframe tbody tr th:only-of-type {\n",
              "        vertical-align: middle;\n",
              "    }\n",
              "\n",
              "    .dataframe tbody tr th {\n",
              "        vertical-align: top;\n",
              "    }\n",
              "\n",
              "    .dataframe thead th {\n",
              "        text-align: right;\n",
              "    }\n",
              "</style>\n",
              "<table border=\"1\" class=\"dataframe\">\n",
              "  <thead>\n",
              "    <tr style=\"text-align: right;\">\n",
              "      <th></th>\n",
              "      <th>Date/Time</th>\n",
              "      <th>Temp (C)</th>\n",
              "      <th>Dew Point Temp (C)</th>\n",
              "      <th>Rel Hum (%)</th>\n",
              "      <th>Wind Spd (km/h)</th>\n",
              "      <th>Visibility (km)</th>\n",
              "      <th>Stn Press (kPa)</th>\n",
              "      <th>Weather</th>\n",
              "    </tr>\n",
              "  </thead>\n",
              "  <tbody>\n",
              "    <tr>\n",
              "      <th>5933</th>\n",
              "      <td>9/4/2012 5:00</td>\n",
              "      <td>20.7</td>\n",
              "      <td>14.6</td>\n",
              "      <td>68</td>\n",
              "      <td>9</td>\n",
              "      <td>25.0</td>\n",
              "      <td>101.11</td>\n",
              "      <td>Mostly Cloudy</td>\n",
              "    </tr>\n",
              "    <tr>\n",
              "      <th>406</th>\n",
              "      <td>1/17/2012 22:00</td>\n",
              "      <td>-1.6</td>\n",
              "      <td>-3.2</td>\n",
              "      <td>89</td>\n",
              "      <td>17</td>\n",
              "      <td>3.2</td>\n",
              "      <td>98.47</td>\n",
              "      <td>Freezing Rain</td>\n",
              "    </tr>\n",
              "    <tr>\n",
              "      <th>86</th>\n",
              "      <td>1/4/2012 14:00</td>\n",
              "      <td>-11.3</td>\n",
              "      <td>-19.0</td>\n",
              "      <td>53</td>\n",
              "      <td>7</td>\n",
              "      <td>19.3</td>\n",
              "      <td>100.97</td>\n",
              "      <td>Snow</td>\n",
              "    </tr>\n",
              "    <tr>\n",
              "      <th>8559</th>\n",
              "      <td>12/22/2012 15:00</td>\n",
              "      <td>-5.4</td>\n",
              "      <td>-7.1</td>\n",
              "      <td>88</td>\n",
              "      <td>35</td>\n",
              "      <td>1.6</td>\n",
              "      <td>99.24</td>\n",
              "      <td>Snow,Blowing Snow</td>\n",
              "    </tr>\n",
              "    <tr>\n",
              "      <th>2803</th>\n",
              "      <td>4/26/2012 19:00</td>\n",
              "      <td>8.3</td>\n",
              "      <td>5.6</td>\n",
              "      <td>83</td>\n",
              "      <td>15</td>\n",
              "      <td>19.3</td>\n",
              "      <td>99.70</td>\n",
              "      <td>Rain</td>\n",
              "    </tr>\n",
              "  </tbody>\n",
              "</table>\n",
              "</div>\n",
              "    <div class=\"colab-df-buttons\">\n",
              "\n",
              "  <div class=\"colab-df-container\">\n",
              "    <button class=\"colab-df-convert\" onclick=\"convertToInteractive('df-66825c32-fdb5-4cfe-b7c4-331e31b7e687')\"\n",
              "            title=\"Convert this dataframe to an interactive table.\"\n",
              "            style=\"display:none;\">\n",
              "\n",
              "  <svg xmlns=\"http://www.w3.org/2000/svg\" height=\"24px\" viewBox=\"0 -960 960 960\">\n",
              "    <path d=\"M120-120v-720h720v720H120Zm60-500h600v-160H180v160Zm220 220h160v-160H400v160Zm0 220h160v-160H400v160ZM180-400h160v-160H180v160Zm440 0h160v-160H620v160ZM180-180h160v-160H180v160Zm440 0h160v-160H620v160Z\"/>\n",
              "  </svg>\n",
              "    </button>\n",
              "\n",
              "  <style>\n",
              "    .colab-df-container {\n",
              "      display:flex;\n",
              "      gap: 12px;\n",
              "    }\n",
              "\n",
              "    .colab-df-convert {\n",
              "      background-color: #E8F0FE;\n",
              "      border: none;\n",
              "      border-radius: 50%;\n",
              "      cursor: pointer;\n",
              "      display: none;\n",
              "      fill: #1967D2;\n",
              "      height: 32px;\n",
              "      padding: 0 0 0 0;\n",
              "      width: 32px;\n",
              "    }\n",
              "\n",
              "    .colab-df-convert:hover {\n",
              "      background-color: #E2EBFA;\n",
              "      box-shadow: 0px 1px 2px rgba(60, 64, 67, 0.3), 0px 1px 3px 1px rgba(60, 64, 67, 0.15);\n",
              "      fill: #174EA6;\n",
              "    }\n",
              "\n",
              "    .colab-df-buttons div {\n",
              "      margin-bottom: 4px;\n",
              "    }\n",
              "\n",
              "    [theme=dark] .colab-df-convert {\n",
              "      background-color: #3B4455;\n",
              "      fill: #D2E3FC;\n",
              "    }\n",
              "\n",
              "    [theme=dark] .colab-df-convert:hover {\n",
              "      background-color: #434B5C;\n",
              "      box-shadow: 0px 1px 3px 1px rgba(0, 0, 0, 0.15);\n",
              "      filter: drop-shadow(0px 1px 2px rgba(0, 0, 0, 0.3));\n",
              "      fill: #FFFFFF;\n",
              "    }\n",
              "  </style>\n",
              "\n",
              "    <script>\n",
              "      const buttonEl =\n",
              "        document.querySelector('#df-66825c32-fdb5-4cfe-b7c4-331e31b7e687 button.colab-df-convert');\n",
              "      buttonEl.style.display =\n",
              "        google.colab.kernel.accessAllowed ? 'block' : 'none';\n",
              "\n",
              "      async function convertToInteractive(key) {\n",
              "        const element = document.querySelector('#df-66825c32-fdb5-4cfe-b7c4-331e31b7e687');\n",
              "        const dataTable =\n",
              "          await google.colab.kernel.invokeFunction('convertToInteractive',\n",
              "                                                    [key], {});\n",
              "        if (!dataTable) return;\n",
              "\n",
              "        const docLinkHtml = 'Like what you see? Visit the ' +\n",
              "          '<a target=\"_blank\" href=https://colab.research.google.com/notebooks/data_table.ipynb>data table notebook</a>'\n",
              "          + ' to learn more about interactive tables.';\n",
              "        element.innerHTML = '';\n",
              "        dataTable['output_type'] = 'display_data';\n",
              "        await google.colab.output.renderOutput(dataTable, element);\n",
              "        const docLink = document.createElement('div');\n",
              "        docLink.innerHTML = docLinkHtml;\n",
              "        element.appendChild(docLink);\n",
              "      }\n",
              "    </script>\n",
              "  </div>\n",
              "\n",
              "\n",
              "<div id=\"df-bb32b783-3116-4afe-a6ce-f902b5188c7a\">\n",
              "  <button class=\"colab-df-quickchart\" onclick=\"quickchart('df-bb32b783-3116-4afe-a6ce-f902b5188c7a')\"\n",
              "            title=\"Suggest charts\"\n",
              "            style=\"display:none;\">\n",
              "\n",
              "<svg xmlns=\"http://www.w3.org/2000/svg\" height=\"24px\"viewBox=\"0 0 24 24\"\n",
              "     width=\"24px\">\n",
              "    <g>\n",
              "        <path d=\"M19 3H5c-1.1 0-2 .9-2 2v14c0 1.1.9 2 2 2h14c1.1 0 2-.9 2-2V5c0-1.1-.9-2-2-2zM9 17H7v-7h2v7zm4 0h-2V7h2v10zm4 0h-2v-4h2v4z\"/>\n",
              "    </g>\n",
              "</svg>\n",
              "  </button>\n",
              "\n",
              "<style>\n",
              "  .colab-df-quickchart {\n",
              "      --bg-color: #E8F0FE;\n",
              "      --fill-color: #1967D2;\n",
              "      --hover-bg-color: #E2EBFA;\n",
              "      --hover-fill-color: #174EA6;\n",
              "      --disabled-fill-color: #AAA;\n",
              "      --disabled-bg-color: #DDD;\n",
              "  }\n",
              "\n",
              "  [theme=dark] .colab-df-quickchart {\n",
              "      --bg-color: #3B4455;\n",
              "      --fill-color: #D2E3FC;\n",
              "      --hover-bg-color: #434B5C;\n",
              "      --hover-fill-color: #FFFFFF;\n",
              "      --disabled-bg-color: #3B4455;\n",
              "      --disabled-fill-color: #666;\n",
              "  }\n",
              "\n",
              "  .colab-df-quickchart {\n",
              "    background-color: var(--bg-color);\n",
              "    border: none;\n",
              "    border-radius: 50%;\n",
              "    cursor: pointer;\n",
              "    display: none;\n",
              "    fill: var(--fill-color);\n",
              "    height: 32px;\n",
              "    padding: 0;\n",
              "    width: 32px;\n",
              "  }\n",
              "\n",
              "  .colab-df-quickchart:hover {\n",
              "    background-color: var(--hover-bg-color);\n",
              "    box-shadow: 0 1px 2px rgba(60, 64, 67, 0.3), 0 1px 3px 1px rgba(60, 64, 67, 0.15);\n",
              "    fill: var(--button-hover-fill-color);\n",
              "  }\n",
              "\n",
              "  .colab-df-quickchart-complete:disabled,\n",
              "  .colab-df-quickchart-complete:disabled:hover {\n",
              "    background-color: var(--disabled-bg-color);\n",
              "    fill: var(--disabled-fill-color);\n",
              "    box-shadow: none;\n",
              "  }\n",
              "\n",
              "  .colab-df-spinner {\n",
              "    border: 2px solid var(--fill-color);\n",
              "    border-color: transparent;\n",
              "    border-bottom-color: var(--fill-color);\n",
              "    animation:\n",
              "      spin 1s steps(1) infinite;\n",
              "  }\n",
              "\n",
              "  @keyframes spin {\n",
              "    0% {\n",
              "      border-color: transparent;\n",
              "      border-bottom-color: var(--fill-color);\n",
              "      border-left-color: var(--fill-color);\n",
              "    }\n",
              "    20% {\n",
              "      border-color: transparent;\n",
              "      border-left-color: var(--fill-color);\n",
              "      border-top-color: var(--fill-color);\n",
              "    }\n",
              "    30% {\n",
              "      border-color: transparent;\n",
              "      border-left-color: var(--fill-color);\n",
              "      border-top-color: var(--fill-color);\n",
              "      border-right-color: var(--fill-color);\n",
              "    }\n",
              "    40% {\n",
              "      border-color: transparent;\n",
              "      border-right-color: var(--fill-color);\n",
              "      border-top-color: var(--fill-color);\n",
              "    }\n",
              "    60% {\n",
              "      border-color: transparent;\n",
              "      border-right-color: var(--fill-color);\n",
              "    }\n",
              "    80% {\n",
              "      border-color: transparent;\n",
              "      border-right-color: var(--fill-color);\n",
              "      border-bottom-color: var(--fill-color);\n",
              "    }\n",
              "    90% {\n",
              "      border-color: transparent;\n",
              "      border-bottom-color: var(--fill-color);\n",
              "    }\n",
              "  }\n",
              "</style>\n",
              "\n",
              "  <script>\n",
              "    async function quickchart(key) {\n",
              "      const quickchartButtonEl =\n",
              "        document.querySelector('#' + key + ' button');\n",
              "      quickchartButtonEl.disabled = true;  // To prevent multiple clicks.\n",
              "      quickchartButtonEl.classList.add('colab-df-spinner');\n",
              "      try {\n",
              "        const charts = await google.colab.kernel.invokeFunction(\n",
              "            'suggestCharts', [key], {});\n",
              "      } catch (error) {\n",
              "        console.error('Error during call to suggestCharts:', error);\n",
              "      }\n",
              "      quickchartButtonEl.classList.remove('colab-df-spinner');\n",
              "      quickchartButtonEl.classList.add('colab-df-quickchart-complete');\n",
              "    }\n",
              "    (() => {\n",
              "      let quickchartButtonEl =\n",
              "        document.querySelector('#df-bb32b783-3116-4afe-a6ce-f902b5188c7a button');\n",
              "      quickchartButtonEl.style.display =\n",
              "        google.colab.kernel.accessAllowed ? 'block' : 'none';\n",
              "    })();\n",
              "  </script>\n",
              "</div>\n",
              "\n",
              "    </div>\n",
              "  </div>\n"
            ],
            "application/vnd.google.colaboratory.intrinsic+json": {
              "type": "dataframe",
              "repr_error": "0"
            }
          },
          "metadata": {},
          "execution_count": 202
        }
      ]
    },
    {
      "cell_type": "markdown",
      "source": [
        "First 5 rows, last 5 rows, and random 5 rows"
      ],
      "metadata": {
        "id": "pPz3g4Q9kPWg"
      }
    },
    {
      "cell_type": "code",
      "source": [
        "# Display first 5 rows, last 5 rows, and 5 random rows\n",
        "print(\"First 5 rows: \\n\", df.head())\n",
        "print(\"Last 5 rows: \\n\", df.tail())\n",
        "print(\"5 Random rows: \\n\", df.sample(5))"
      ],
      "metadata": {
        "colab": {
          "base_uri": "https://localhost:8080/"
        },
        "id": "oiFij3vrkUzh",
        "outputId": "111a6d5c-d9f6-4d4d-b392-1d73a719623c"
      },
      "execution_count": 203,
      "outputs": [
        {
          "output_type": "stream",
          "name": "stdout",
          "text": [
            "First 5 rows: \n",
            "        Date/Time  Temp (C)  Dew Point Temp (C)  Rel Hum (%)  Wind Spd (km/h)  \\\n",
            "0  1/1/2012 0:00      -1.8                -3.9           86                4   \n",
            "1  1/1/2012 1:00      -1.8                -3.7           87                4   \n",
            "2  1/1/2012 2:00      -1.8                -3.4           89                7   \n",
            "3  1/1/2012 3:00      -1.5                -3.2           88                6   \n",
            "4  1/1/2012 4:00      -1.5                -3.3           88                7   \n",
            "\n",
            "   Visibility (km)  Stn Press (kPa)               Weather  \n",
            "0              8.0           101.24                   Fog  \n",
            "1              8.0           101.24                   Fog  \n",
            "2              4.0           101.26  Freezing Drizzle,Fog  \n",
            "3              4.0           101.27  Freezing Drizzle,Fog  \n",
            "4              4.8           101.23                   Fog  \n",
            "Last 5 rows: \n",
            "              Date/Time  Temp (C)  Dew Point Temp (C)  Rel Hum (%)  \\\n",
            "8779  12/31/2012 19:00       0.1                -2.7           81   \n",
            "8780  12/31/2012 20:00       0.2                -2.4           83   \n",
            "8781  12/31/2012 21:00      -0.5                -1.5           93   \n",
            "8782  12/31/2012 22:00      -0.2                -1.8           89   \n",
            "8783  12/31/2012 23:00       0.0                -2.1           86   \n",
            "\n",
            "      Wind Spd (km/h)  Visibility (km)  Stn Press (kPa) Weather  \n",
            "8779               30              9.7           100.13    Snow  \n",
            "8780               24              9.7           100.03    Snow  \n",
            "8781               28              4.8            99.95    Snow  \n",
            "8782               28              9.7            99.91    Snow  \n",
            "8783               30             11.3            99.89    Snow  \n",
            "5 Random rows: \n",
            "             Date/Time  Temp (C)  Dew Point Temp (C)  Rel Hum (%)  \\\n",
            "8553  12/22/2012 9:00      -3.0                -5.0           86   \n",
            "3158  5/11/2012 14:00      17.6                -1.0           28   \n",
            "422   1/18/2012 14:00     -10.3               -17.6           55   \n",
            "2508  4/14/2012 12:00      15.3                -0.3           34   \n",
            "2330    4/7/2012 2:00       3.1               -10.3           37   \n",
            "\n",
            "      Wind Spd (km/h)  Visibility (km)  Stn Press (kPa)        Weather  \n",
            "8553               35              3.2            98.58           Snow  \n",
            "3158               32             48.3           100.72   Mainly Clear  \n",
            "422                28             48.3           101.19   Mainly Clear  \n",
            "2508               24             48.3           101.21         Cloudy  \n",
            "2330                7             25.0           101.30  Mostly Cloudy  \n"
          ]
        }
      ]
    },
    {
      "cell_type": "markdown",
      "source": [
        "All Column names"
      ],
      "metadata": {
        "id": "TgJe0NpakXjt"
      }
    },
    {
      "cell_type": "code",
      "source": [
        "# List all column names\n",
        "print(\"Column names:\", list(df.columns))"
      ],
      "metadata": {
        "colab": {
          "base_uri": "https://localhost:8080/"
        },
        "id": "kSVgWm0CkbGb",
        "outputId": "e6b58e88-6378-48be-c1bb-f42783eaa294"
      },
      "execution_count": 204,
      "outputs": [
        {
          "output_type": "stream",
          "name": "stdout",
          "text": [
            "Column names: ['Date/Time', 'Temp (C)', 'Dew Point Temp (C)', 'Rel Hum (%)', 'Wind Spd (km/h)', 'Visibility (km)', 'Stn Press (kPa)', 'Weather']\n"
          ]
        }
      ]
    },
    {
      "cell_type": "markdown",
      "source": [
        "Rename Columns"
      ],
      "metadata": {
        "id": "i-sQzK09k1S9"
      }
    },
    {
      "cell_type": "code",
      "source": [
        "# Rename columns\n",
        "new_names = {'Date/Time': 'date_time', 'Temp (C)': 'temp_c', 'Dew Point Temp (C)': 'dew_point', 'Rel Hum (%)': 'relative_humidity', 'Wind Spd (km/h)': 'wind_speed', 'Visibility (km)': 'visibility', 'Stn Press (kPa)': 'pressure', 'Weather': 'weather'}\n",
        "df = df.rename(columns=new_names)"
      ],
      "metadata": {
        "id": "7WE-yQSrk3AC"
      },
      "execution_count": 205,
      "outputs": []
    },
    {
      "cell_type": "markdown",
      "source": [
        "Basic Statistics"
      ],
      "metadata": {
        "id": "E21TYhmxk5Qi"
      }
    },
    {
      "cell_type": "code",
      "source": [
        "# Basic statistics\n",
        "print(\"Descriptive statistics: \\n\", df.describe())"
      ],
      "metadata": {
        "colab": {
          "base_uri": "https://localhost:8080/"
        },
        "id": "-Jw_06uak7A2",
        "outputId": "23ae96b9-5bd1-4398-945b-ba8b5e04ecde"
      },
      "execution_count": 206,
      "outputs": [
        {
          "output_type": "stream",
          "name": "stdout",
          "text": [
            "Descriptive statistics: \n",
            "             temp_c    dew_point  relative_humidity   wind_speed   visibility  \\\n",
            "count  8784.000000  8784.000000        8784.000000  8784.000000  8784.000000   \n",
            "mean      8.798144     2.555294          67.431694    14.945469    27.664447   \n",
            "std      11.687883    10.883072          16.918881     8.688696    12.622688   \n",
            "min     -23.300000   -28.500000          18.000000     0.000000     0.200000   \n",
            "25%       0.100000    -5.900000          56.000000     9.000000    24.100000   \n",
            "50%       9.300000     3.300000          68.000000    13.000000    25.000000   \n",
            "75%      18.800000    11.800000          81.000000    20.000000    25.000000   \n",
            "max      33.000000    24.400000         100.000000    83.000000    48.300000   \n",
            "\n",
            "          pressure  \n",
            "count  8784.000000  \n",
            "mean    101.051623  \n",
            "std       0.844005  \n",
            "min      97.520000  \n",
            "25%     100.560000  \n",
            "50%     101.070000  \n",
            "75%     101.590000  \n",
            "max     103.650000  \n"
          ]
        }
      ]
    },
    {
      "cell_type": "markdown",
      "source": [
        "Add Temperature in Fahrenheit"
      ],
      "metadata": {
        "id": "ntbkkDBrk_OA"
      }
    },
    {
      "cell_type": "code",
      "source": [
        "# Add temperature in Fahrenheit\n",
        "df['temp_f'] = (df['temp_c'] * (9/5)) + 32"
      ],
      "metadata": {
        "id": "50wlarFFlCi3"
      },
      "execution_count": 207,
      "outputs": []
    },
    {
      "cell_type": "markdown",
      "source": [
        "Rearrange Columns"
      ],
      "metadata": {
        "id": "dD_IwIfilEpK"
      }
    },
    {
      "cell_type": "code",
      "source": [
        "# Rearrange columns\n",
        "cols = list(df.columns)\n",
        "cols.insert(cols.index('temp_c'), 'temp_f')\n",
        "df = df[cols]"
      ],
      "metadata": {
        "id": "t6mIk9eVlGPp"
      },
      "execution_count": 208,
      "outputs": []
    },
    {
      "cell_type": "markdown",
      "source": [
        "Check Data Types"
      ],
      "metadata": {
        "id": "LVQcOt1ylMRv"
      }
    },
    {
      "cell_type": "code",
      "source": [
        "# Check data types\n",
        "print(\"Data types: \\n\", df.dtypes)"
      ],
      "metadata": {
        "colab": {
          "base_uri": "https://localhost:8080/"
        },
        "id": "jruQPsa5lObS",
        "outputId": "b4c2b22c-07ce-4728-a350-d9eacf4a5d83"
      },
      "execution_count": 209,
      "outputs": [
        {
          "output_type": "stream",
          "name": "stdout",
          "text": [
            "Data types: \n",
            " date_time             object\n",
            "temp_f               float64\n",
            "temp_c               float64\n",
            "dew_point            float64\n",
            "relative_humidity      int64\n",
            "wind_speed             int64\n",
            "visibility           float64\n",
            "pressure             float64\n",
            "weather               object\n",
            "temp_f               float64\n",
            "dtype: object\n"
          ]
        }
      ]
    },
    {
      "cell_type": "markdown",
      "source": [
        "Convert Date and Time"
      ],
      "metadata": {
        "id": "8vryQHHKlQSp"
      }
    },
    {
      "cell_type": "code",
      "source": [
        "# Convert date_time to datetime format\n",
        "df['date_time'] = pd.to_datetime(df['date_time'])\n",
        "print(\"Date time conversion successful:\", pd.to_datetime(df['date_time']).dtype)"
      ],
      "metadata": {
        "colab": {
          "base_uri": "https://localhost:8080/"
        },
        "id": "mGp6_sPHlSZC",
        "outputId": "6dce02f5-8841-40cb-d88c-9dc373f66e52"
      },
      "execution_count": 210,
      "outputs": [
        {
          "output_type": "stream",
          "name": "stdout",
          "text": [
            "Date time conversion successful: datetime64[ns]\n"
          ]
        }
      ]
    },
    {
      "cell_type": "markdown",
      "source": [
        "Calculate Average Temperature per Month"
      ],
      "metadata": {
        "id": "nMDpcIcslY75"
      }
    },
    {
      "cell_type": "code",
      "source": [
        "# Calculate average temperature per month\n",
        "monthly_avg = df.groupby(df['date_time'].dt.month)['temp_f'].mean()"
      ],
      "metadata": {
        "id": "iCHK4cSJleqF"
      },
      "execution_count": 211,
      "outputs": []
    },
    {
      "cell_type": "markdown",
      "source": [
        "Plot Temp vs. Relative Humidity"
      ],
      "metadata": {
        "id": "KszfB3Oclf_h"
      }
    },
    {
      "cell_type": "code",
      "source": [
        "# Plot temperature vs relative humidity scatterplot\n",
        "fig, ax = plt.subplots(figsize=(20, 10))\n",
        "\n",
        "# Ensure both columns have the same length before plotting\n",
        "x = df['relative_humidity'].dropna()\n",
        "y = df['temp_f'].dropna()\n",
        "\n",
        "# Align data points based on shared index values\n",
        "shared_index = x.index.intersection(y.index)\n",
        "x = x.loc[shared_index]\n",
        "y = y.loc[shared_index]\n",
        "\n",
        "#Now plot\n",
        "ax.scatter(x, y)  # Using aligned data\n",
        "ax.set_title('Temperature vs Relative Humidity')\n",
        "ax.set_xlabel('Relative Humidity (%)')\n",
        "ax.set_ylabel('Temperature (F)')\n",
        "ax.grid(True)\n",
        "plt.show()\n",
        "\n",
        "#Continued testing to match x and y axes have not been successful"
      ],
      "metadata": {
        "colab": {
          "base_uri": "https://localhost:8080/",
          "height": 1000
        },
        "id": "-shCcwZHljyJ",
        "outputId": "de1fafe2-6c75-48d8-a5db-4efd9aeca20f"
      },
      "execution_count": 221,
      "outputs": [
        {
          "output_type": "error",
          "ename": "ValueError",
          "evalue": "x and y must be the same size",
          "traceback": [
            "\u001b[0;31m---------------------------------------------------------------------------\u001b[0m",
            "\u001b[0;31mValueError\u001b[0m                                Traceback (most recent call last)",
            "\u001b[0;32m<ipython-input-221-47f5dca81da0>\u001b[0m in \u001b[0;36m<cell line: 0>\u001b[0;34m()\u001b[0m\n\u001b[1;32m     12\u001b[0m \u001b[0;34m\u001b[0m\u001b[0m\n\u001b[1;32m     13\u001b[0m \u001b[0;31m#Now plot\u001b[0m\u001b[0;34m\u001b[0m\u001b[0;34m\u001b[0m\u001b[0m\n\u001b[0;32m---> 14\u001b[0;31m \u001b[0max\u001b[0m\u001b[0;34m.\u001b[0m\u001b[0mscatter\u001b[0m\u001b[0;34m(\u001b[0m\u001b[0mx\u001b[0m\u001b[0;34m,\u001b[0m \u001b[0my\u001b[0m\u001b[0;34m)\u001b[0m  \u001b[0;31m# Using aligned data\u001b[0m\u001b[0;34m\u001b[0m\u001b[0;34m\u001b[0m\u001b[0m\n\u001b[0m\u001b[1;32m     15\u001b[0m \u001b[0max\u001b[0m\u001b[0;34m.\u001b[0m\u001b[0mset_title\u001b[0m\u001b[0;34m(\u001b[0m\u001b[0;34m'Temperature vs Relative Humidity'\u001b[0m\u001b[0;34m)\u001b[0m\u001b[0;34m\u001b[0m\u001b[0;34m\u001b[0m\u001b[0m\n\u001b[1;32m     16\u001b[0m \u001b[0max\u001b[0m\u001b[0;34m.\u001b[0m\u001b[0mset_xlabel\u001b[0m\u001b[0;34m(\u001b[0m\u001b[0;34m'Relative Humidity (%)'\u001b[0m\u001b[0;34m)\u001b[0m\u001b[0;34m\u001b[0m\u001b[0;34m\u001b[0m\u001b[0m\n",
            "\u001b[0;32m/usr/local/lib/python3.11/dist-packages/matplotlib/_api/deprecation.py\u001b[0m in \u001b[0;36mwrapper\u001b[0;34m(*args, **kwargs)\u001b[0m\n\u001b[1;32m    451\u001b[0m                 \u001b[0;34m\"parameter will become keyword-only in %(removal)s.\"\u001b[0m\u001b[0;34m,\u001b[0m\u001b[0;34m\u001b[0m\u001b[0;34m\u001b[0m\u001b[0m\n\u001b[1;32m    452\u001b[0m                 name=name, obj_type=f\"parameter of {func.__name__}()\")\n\u001b[0;32m--> 453\u001b[0;31m         \u001b[0;32mreturn\u001b[0m \u001b[0mfunc\u001b[0m\u001b[0;34m(\u001b[0m\u001b[0;34m*\u001b[0m\u001b[0margs\u001b[0m\u001b[0;34m,\u001b[0m \u001b[0;34m**\u001b[0m\u001b[0mkwargs\u001b[0m\u001b[0;34m)\u001b[0m\u001b[0;34m\u001b[0m\u001b[0;34m\u001b[0m\u001b[0m\n\u001b[0m\u001b[1;32m    454\u001b[0m \u001b[0;34m\u001b[0m\u001b[0m\n\u001b[1;32m    455\u001b[0m     \u001b[0;31m# Don't modify *func*'s signature, as boilerplate.py needs it.\u001b[0m\u001b[0;34m\u001b[0m\u001b[0;34m\u001b[0m\u001b[0m\n",
            "\u001b[0;32m/usr/local/lib/python3.11/dist-packages/matplotlib/__init__.py\u001b[0m in \u001b[0;36minner\u001b[0;34m(ax, data, *args, **kwargs)\u001b[0m\n\u001b[1;32m   1519\u001b[0m     \u001b[0;32mdef\u001b[0m \u001b[0minner\u001b[0m\u001b[0;34m(\u001b[0m\u001b[0max\u001b[0m\u001b[0;34m,\u001b[0m \u001b[0;34m*\u001b[0m\u001b[0margs\u001b[0m\u001b[0;34m,\u001b[0m \u001b[0mdata\u001b[0m\u001b[0;34m=\u001b[0m\u001b[0;32mNone\u001b[0m\u001b[0;34m,\u001b[0m \u001b[0;34m**\u001b[0m\u001b[0mkwargs\u001b[0m\u001b[0;34m)\u001b[0m\u001b[0;34m:\u001b[0m\u001b[0;34m\u001b[0m\u001b[0;34m\u001b[0m\u001b[0m\n\u001b[1;32m   1520\u001b[0m         \u001b[0;32mif\u001b[0m \u001b[0mdata\u001b[0m \u001b[0;32mis\u001b[0m \u001b[0;32mNone\u001b[0m\u001b[0;34m:\u001b[0m\u001b[0;34m\u001b[0m\u001b[0;34m\u001b[0m\u001b[0m\n\u001b[0;32m-> 1521\u001b[0;31m             return func(\n\u001b[0m\u001b[1;32m   1522\u001b[0m                 \u001b[0max\u001b[0m\u001b[0;34m,\u001b[0m\u001b[0;34m\u001b[0m\u001b[0;34m\u001b[0m\u001b[0m\n\u001b[1;32m   1523\u001b[0m                 \u001b[0;34m*\u001b[0m\u001b[0mmap\u001b[0m\u001b[0;34m(\u001b[0m\u001b[0mcbook\u001b[0m\u001b[0;34m.\u001b[0m\u001b[0msanitize_sequence\u001b[0m\u001b[0;34m,\u001b[0m \u001b[0margs\u001b[0m\u001b[0;34m)\u001b[0m\u001b[0;34m,\u001b[0m\u001b[0;34m\u001b[0m\u001b[0;34m\u001b[0m\u001b[0m\n",
            "\u001b[0;32m/usr/local/lib/python3.11/dist-packages/matplotlib/axes/_axes.py\u001b[0m in \u001b[0;36mscatter\u001b[0;34m(self, x, y, s, c, marker, cmap, norm, vmin, vmax, alpha, linewidths, edgecolors, colorizer, plotnonfinite, **kwargs)\u001b[0m\n\u001b[1;32m   4898\u001b[0m         \u001b[0my\u001b[0m \u001b[0;34m=\u001b[0m \u001b[0mnp\u001b[0m\u001b[0;34m.\u001b[0m\u001b[0mma\u001b[0m\u001b[0;34m.\u001b[0m\u001b[0mravel\u001b[0m\u001b[0;34m(\u001b[0m\u001b[0my\u001b[0m\u001b[0;34m)\u001b[0m\u001b[0;34m\u001b[0m\u001b[0;34m\u001b[0m\u001b[0m\n\u001b[1;32m   4899\u001b[0m         \u001b[0;32mif\u001b[0m \u001b[0mx\u001b[0m\u001b[0;34m.\u001b[0m\u001b[0msize\u001b[0m \u001b[0;34m!=\u001b[0m \u001b[0my\u001b[0m\u001b[0;34m.\u001b[0m\u001b[0msize\u001b[0m\u001b[0;34m:\u001b[0m\u001b[0;34m\u001b[0m\u001b[0;34m\u001b[0m\u001b[0m\n\u001b[0;32m-> 4900\u001b[0;31m             \u001b[0;32mraise\u001b[0m \u001b[0mValueError\u001b[0m\u001b[0;34m(\u001b[0m\u001b[0;34m\"x and y must be the same size\"\u001b[0m\u001b[0;34m)\u001b[0m\u001b[0;34m\u001b[0m\u001b[0;34m\u001b[0m\u001b[0m\n\u001b[0m\u001b[1;32m   4901\u001b[0m \u001b[0;34m\u001b[0m\u001b[0m\n\u001b[1;32m   4902\u001b[0m         \u001b[0;32mif\u001b[0m \u001b[0ms\u001b[0m \u001b[0;32mis\u001b[0m \u001b[0;32mNone\u001b[0m\u001b[0;34m:\u001b[0m\u001b[0;34m\u001b[0m\u001b[0;34m\u001b[0m\u001b[0m\n",
            "\u001b[0;31mValueError\u001b[0m: x and y must be the same size"
          ]
        },
        {
          "output_type": "display_data",
          "data": {
            "text/plain": [
              "<Figure size 2000x1000 with 1 Axes>"
            ],
            "image/png": "[encoded data removed]"
          },
          "metadata": {}
        }
      ]
    },
    {
      "cell_type": "markdown",
      "source": [
        "Plot Avg. Temp. per Month"
      ],
      "metadata": {
        "id": "PxDVbOZwlm7i"
      }
    },
    {
      "cell_type": "code",
      "source": [
        "# Plot average temperature per month line chart\n",
        "plt.figure(figsize=(20, 10))\n",
        "monthly_avg.plot(kind='line')\n",
        "plt.xlabel('Month')\n",
        "plt.ylabel('Average Temperature (F)')\n",
        "plt.show()"
      ],
      "metadata": {
        "colab": {
          "base_uri": "https://localhost:8080/",
          "height": 467
        },
        "id": "0T_ilw4dlq1r",
        "outputId": "8155a647-fb0b-4f69-c8e2-c67430e32a72"
      },
      "execution_count": 222,
      "outputs": [
        {
          "output_type": "display_data",
          "data": {
            "text/plain": [
              "<Figure size 2000x1000 with 0 Axes>"
            ]
          },
          "metadata": {}
        },
        {
          "output_type": "display_data",
          "data": {
            "text/plain": [
              "<Figure size 640x480 with 1 Axes>"
            ],
            "image/png": "[encoded data removed]"
          },
          "metadata": {}
        }
      ]
    },
    {
      "cell_type": "markdown",
      "source": [
        "Box Plot"
      ],
      "metadata": {
        "id": "Crk6jRX5lsxC"
      }
    },
    {
      "cell_type": "code",
      "execution_count": 226,
      "metadata": {
        "id": "ssl9wVR6j2Kg",
        "colab": {
          "base_uri": "https://localhost:8080/",
          "height": 785
        },
        "outputId": "d4abbbea-4b86-41e0-bde5-7c8323daf4da"
      },
      "outputs": [
        {
          "output_type": "display_data",
          "data": {
            "text/plain": [
              "<Figure size 2000x1000 with 1 Axes>"
            ],
            "image/png": "[encoded data removed]"
          },
          "metadata": {}
        }
      ],
      "source": [
        "# Plot boxplot\n",
        "plt.figure(figsize=(20, 10))\n",
        "plt.boxplot(df[['temp_f', 'temp_c', 'dew_point', 'relative_humidity', 'wind_speed', 'visibility', 'pressure']]) # Changed tuple to a list for column selection and corrected the typo 'visbility' to 'visibility'\n",
        "plt.xlabel('Features') # Changed x-axis label to 'Features' as boxplot shows distribution of different features and not months.\n",
        "plt.ylabel('Values') # Changed y-axis label to 'Values' for a more general representation\n",
        "plt.show()\n"
      ]
    }
  ]
}