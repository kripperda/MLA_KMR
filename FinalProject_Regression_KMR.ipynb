{
  "nbformat": 4,
  "nbformat_minor": 0,
  "metadata": {
    "colab": {
      "provenance": [],
      "authorship_tag": "ABX9TyODB10y2AiwuNskvoHZ8rlb",
      "include_colab_link": true
    },
    "kernelspec": {
      "name": "python3",
      "display_name": "Python 3"
    },
    "language_info": {
      "name": "python"
    }
  },
  "cells": [
    {
      "cell_type": "markdown",
      "metadata": {
        "id": "view-in-github",
        "colab_type": "text"
      },
      "source": [
        "<a href=\"https://colab.research.google.com/github/kripperda/MLA_KMR/blob/main/FinalProject_Regression_KMR.ipynb\" target=\"_parent\"><img src=\"https://colab.research.google.com/assets/colab-badge.svg\" alt=\"Open In Colab\"/></a>"
      ]
    },
    {
      "cell_type": "markdown",
      "source": [
        "Machine Learning Final Assignment\n",
        "\n",
        "\n",
        "---\n",
        "\n",
        "Kory Ripperda"
      ],
      "metadata": {
        "id": "1sJrM-BVYTaD"
      }
    },
    {
      "cell_type": "markdown",
      "source": [
        "Problem 1 - Regression"
      ],
      "metadata": {
        "id": "LmOMe7MTYX2s"
      }
    },
    {
      "cell_type": "markdown",
      "source": [
        "Problem 2 - Classification"
      ],
      "metadata": {
        "id": "mGECBiz3YaVX"
      }
    },
    {
      "cell_type": "code",
      "execution_count": null,
      "metadata": {
        "id": "YyFbFqbkX9iH"
      },
      "outputs": [],
      "source": []
    }
  ]
}